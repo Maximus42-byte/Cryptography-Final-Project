{
  "nbformat": 4,
  "nbformat_minor": 0,
  "metadata": {
    "colab": {
      "provenance": []
    },
    "kernelspec": {
      "name": "python3",
      "display_name": "Python 3"
    },
    "language_info": {
      "name": "python"
    }
  },
  "cells": [
    {
      "cell_type": "code",
      "execution_count": 1,
      "metadata": {
        "id": "F526RzYVrQ9X"
      },
      "outputs": [],
      "source": [
        "import random\n",
        "\n",
        "class ToyCipher:\n",
        "    def __init__(self, num_rounds, round_keys):\n",
        "        self.num_rounds = num_rounds\n",
        "        assert len(round_keys) == num_rounds + 1, \"invalid number of round keys\"\n",
        "        self.__key = round_keys\n",
        "        self.sbox = {\n",
        "            0: 6,\n",
        "            1: 4,\n",
        "            2: 12,\n",
        "            3: 5,\n",
        "            4: 0,\n",
        "            5: 7,\n",
        "            6: 2,\n",
        "            7: 14,\n",
        "            8: 1,\n",
        "            9: 15,\n",
        "            10: 3,\n",
        "            11: 13,\n",
        "            12: 8,\n",
        "            13: 10,\n",
        "            14: 9,\n",
        "            15: 11,\n",
        "        }\n",
        "        #perms = list(range(16))\n",
        "        #random.shuffle(perms)\n",
        "        #self.sbox = {i:perms[i] for i in range(16)}\n",
        "        self.inv_sbox = {self.sbox[i]: i for i in range(16)}\n",
        "\n",
        "    def enc(self, m):\n",
        "        c = m ^ self.__key[0]\n",
        "        for i in range(1, self.num_rounds + 1):\n",
        "            c = self.sbox[c] ^ self.__key[i]\n",
        "        return c\n",
        "\n",
        "    def dec(self, c):\n",
        "        m = c ^ self.__key[-1]\n",
        "        for i in range(self.num_rounds - 1, -1, -1):\n",
        "            m = self.inv_sbox[m] ^ self.__key[i]\n",
        "        return m\n"
      ]
    },
    {
      "cell_type": "markdown",
      "source": [
        "part 1"
      ],
      "metadata": {
        "id": "Pt-IfpCX4CIn"
      }
    },
    {
      "cell_type": "code",
      "source": [
        "t1 = ToyCipher(1, [None,None])\n",
        "l = len(t1.sbox)\n",
        "r = [[0] * l for _ in range(l)]\n",
        "for i in range(l):\n",
        "  for j in range(l):\n",
        "    r[i ^ j][t1.sbox[i] ^ t1.sbox[j]] += 1"
      ],
      "metadata": {
        "id": "hEk2_9iHSiaw"
      },
      "execution_count": 2,
      "outputs": []
    },
    {
      "cell_type": "code",
      "source": [
        "r\n"
      ],
      "metadata": {
        "colab": {
          "base_uri": "https://localhost:8080/"
        },
        "id": "UTAXR7_vUchV",
        "outputId": "2044769f-3226-44fd-8b9f-5eb8f9734ad6"
      },
      "execution_count": 3,
      "outputs": [
        {
          "output_type": "execute_result",
          "data": {
            "text/plain": [
              "[[16, 0, 0, 0, 0, 0, 0, 0, 0, 0, 0, 0, 0, 0, 0, 0],\n",
              " [0, 0, 6, 0, 0, 0, 0, 2, 0, 2, 0, 0, 2, 0, 4, 0],\n",
              " [0, 6, 6, 0, 0, 0, 0, 0, 0, 2, 2, 0, 0, 0, 0, 0],\n",
              " [0, 0, 0, 6, 0, 2, 0, 0, 2, 0, 0, 0, 4, 0, 2, 0],\n",
              " [0, 0, 0, 2, 0, 2, 4, 0, 0, 2, 2, 2, 0, 0, 2, 0],\n",
              " [0, 2, 2, 0, 4, 0, 0, 4, 2, 0, 0, 2, 0, 0, 0, 0],\n",
              " [0, 0, 2, 0, 4, 0, 0, 2, 2, 0, 2, 2, 2, 0, 0, 0],\n",
              " [0, 0, 0, 0, 0, 4, 4, 0, 2, 2, 2, 2, 0, 0, 0, 0],\n",
              " [0, 0, 0, 0, 0, 2, 0, 2, 4, 0, 0, 4, 0, 2, 0, 2],\n",
              " [0, 2, 0, 0, 0, 2, 2, 2, 0, 4, 2, 0, 0, 0, 0, 2],\n",
              " [0, 0, 0, 0, 2, 2, 0, 0, 0, 4, 4, 0, 2, 2, 0, 0],\n",
              " [0, 0, 0, 2, 2, 0, 2, 2, 2, 0, 0, 4, 0, 0, 2, 0],\n",
              " [0, 4, 0, 2, 0, 2, 0, 0, 2, 0, 0, 0, 0, 0, 6, 0],\n",
              " [0, 0, 0, 0, 0, 0, 2, 2, 0, 0, 0, 0, 6, 2, 0, 4],\n",
              " [0, 2, 0, 4, 2, 0, 0, 0, 0, 0, 2, 0, 0, 0, 0, 6],\n",
              " [0, 0, 0, 0, 2, 0, 2, 0, 0, 0, 0, 0, 0, 10, 0, 2]]"
            ]
          },
          "metadata": {},
          "execution_count": 3
        }
      ]
    },
    {
      "cell_type": "markdown",
      "source": [
        "part2"
      ],
      "metadata": {
        "id": "mNdf6dm1YmYL"
      }
    },
    {
      "cell_type": "code",
      "source": [
        "  "
      ],
      "metadata": {
        "id": "Y4sakEUpUnnm"
      },
      "execution_count": null,
      "outputs": []
    }
  ]
}