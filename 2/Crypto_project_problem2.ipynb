{
  "nbformat": 4,
  "nbformat_minor": 0,
  "metadata": {
    "colab": {
      "provenance": []
    },
    "kernelspec": {
      "name": "python3",
      "display_name": "Python 3"
    },
    "language_info": {
      "name": "python"
    }
  },
  "cells": [
    {
      "cell_type": "markdown",
      "source": [
        "**Problem number 2**\n",
        "\n",
        "Homomorphic properties\n",
        "A notable feature of the Paillier cryptosystem is its homomorphic properties along with its non-deterministic encryption (see Electronic voting in Applications for usage). As the encryption function is additively homomorphic, the following identities can be described:\n",
        "\n",
        "Homomorphic addition of plaintexts:\n",
        "The product of two ciphertexts will decrypt to the sum of their corresponding plaintexts\n",
        "*italicized text*\n",
        "\n"
      ],
      "metadata": {
        "id": "r-FEV25iXsIk"
      }
    },
    {
      "cell_type": "code",
      "execution_count": 1,
      "metadata": {
        "id": "LV01MAaGLEhB"
      },
      "outputs": [],
      "source": [
        "c1 = 1431135290069325008583005767760440194352250669868642015637284664827863096526854295290213163196780672778228721128052234092877469782343204440819088345226674\n",
        "\n",
        "c2 = 766502765098026355380112715536128541917607723218993231191798626637402444561652254317663096357141828249072007319292850196436742539757315839907222753619573\n",
        "\n",
        "n = 61186929436230855420766379500946377903931541699202551225466267001310907409761\n"
      ]
    },
    {
      "cell_type": "code",
      "source": [
        "sum = (c1 * c2) % (n ** 2)"
      ],
      "metadata": {
        "id": "KmRwKFVVZeJg"
      },
      "execution_count": 2,
      "outputs": []
    },
    {
      "cell_type": "code",
      "source": [
        "sum\n"
      ],
      "metadata": {
        "colab": {
          "base_uri": "https://localhost:8080/"
        },
        "id": "rGirJAz9aVLL",
        "outputId": "281d2195-b237-47d8-aee8-2bf277691db6"
      },
      "execution_count": 3,
      "outputs": [
        {
          "output_type": "execute_result",
          "data": {
            "text/plain": [
              "3442479844849601015929116420225331174762347503786347028488270158782845246087290694555796130515872005959861140246012570883172452882510697599323537198341212"
            ]
          },
          "metadata": {},
          "execution_count": 3
        }
      ]
    },
    {
      "cell_type": "markdown",
      "source": [
        "sum corresponds to ENC(m1 + m2)"
      ],
      "metadata": {
        "id": "tP_fPT7FajPr"
      }
    },
    {
      "cell_type": "markdown",
      "source": [
        "now for the second part\n"
      ],
      "metadata": {
        "id": "tsMAsgKjark-"
      }
    },
    {
      "cell_type": "markdown",
      "source": [
        "Paillier cryptosystem exploits the fact that certain discrete logarithms can be computed easily.\n",
        "\n",
        "\n",
        "بعد تو قسمت بکگراند توضیح داده که با داشتن \n",
        "\n",
        "g^m\n",
        "\n",
        "\n",
        "چجوری میشه خود \n",
        "\n",
        "\n",
        "m mod n \n",
        "\n",
        "\n",
        "رو حساب کرد\n"
      ],
      "metadata": {
        "id": "BG-HYbRFoLnQ"
      }
    },
    {
      "cell_type": "code",
      "source": [
        "c = 1857855433435253966261472405564630068207257435599367652422302291177346557860873816680098602083496236349568385254262863758166153798362744023058732538696778\n",
        "r = 14935127747067141332266439078227426312235659727377265398012065621101840712218\n",
        "n2 = 70700063534546514342061240350548864227722633715593560476868914510092441292783"
      ],
      "metadata": {
        "id": "Fp-yhfnRb_nz"
      },
      "execution_count": 13,
      "outputs": []
    },
    {
      "cell_type": "code",
      "source": [
        "g_topow_m = (c * pow(r,-n2,n2**2))%(n2 ** 2)"
      ],
      "metadata": {
        "id": "Ie1aG1PfkRcv"
      },
      "execution_count": 14,
      "outputs": []
    },
    {
      "cell_type": "code",
      "source": [
        "#طبق فرمول ویکیپدیا\n",
        "import math \n",
        "m = math.floor((g_topow_m - 1) / n2)"
      ],
      "metadata": {
        "id": "ceA0KiZIkw5d"
      },
      "execution_count": 15,
      "outputs": []
    },
    {
      "cell_type": "code",
      "source": [
        "m"
      ],
      "metadata": {
        "colab": {
          "base_uri": "https://localhost:8080/"
        },
        "id": "qyeC7y06lqyG",
        "outputId": "040ca727-ede5-4328-f152-e21b054c6118"
      },
      "execution_count": 16,
      "outputs": [
        {
          "output_type": "execute_result",
          "data": {
            "text/plain": [
              "73313"
            ]
          },
          "metadata": {},
          "execution_count": 16
        }
      ]
    },
    {
      "cell_type": "markdown",
      "source": [
        "m is plaintext message according to this problem"
      ],
      "metadata": {
        "id": "w83Lcf6Dm9U9"
      }
    }
  ]
}