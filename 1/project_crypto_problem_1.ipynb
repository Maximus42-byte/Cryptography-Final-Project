{
  "cells": [
    {
      "cell_type": "code",
      "source": [
        "%pip install tinyec"
      ],
      "metadata": {
        "colab": {
          "base_uri": "https://localhost:8080/"
        },
        "id": "w6rz7F3OpQR0",
        "outputId": "74a8bde2-59f5-4a5e-8974-f6c7b3789bbf"
      },
      "execution_count": 1,
      "outputs": [
        {
          "output_type": "stream",
          "name": "stdout",
          "text": [
            "Looking in indexes: https://pypi.org/simple, https://us-python.pkg.dev/colab-wheels/public/simple/\n",
            "Requirement already satisfied: tinyec in /usr/local/lib/python3.8/dist-packages (0.4.0)\n"
          ]
        }
      ]
    },
    {
      "cell_type": "code",
      "source": [
        "import tinyec.registry as reg \n",
        "import tinyec.ec as ec \n",
        "from sympy.ntheory.residue_ntheory import nthroot_mod \n",
        "import secrets\n",
        "studentno = 401207254"
      ],
      "metadata": {
        "id": "KQxmyoOKuA52"
      },
      "execution_count": 2,
      "outputs": []
    },
    {
      "cell_type": "markdown",
      "source": [
        "**part1**"
      ],
      "metadata": {
        "id": "JWKUe9XZvW8i"
      }
    },
    {
      "cell_type": "code",
      "source": [
        "curve = reg.get_curve(\"secp192r1\")\n",
        "print(f\"a = 0x{curve.a:x}\") \n"
      ],
      "metadata": {
        "colab": {
          "base_uri": "https://localhost:8080/"
        },
        "id": "0ddqLAGXvkjn",
        "outputId": "f37210e8-9bdc-4aff-fd2a-81fb3dd6fcb6"
      },
      "execution_count": 3,
      "outputs": [
        {
          "output_type": "stream",
          "name": "stdout",
          "text": [
            "a = 0xfffffffffffffffffffffffffffffffefffffffffffffffc\n"
          ]
        }
      ]
    },
    {
      "cell_type": "code",
      "source": [
        "curve = reg.get_curve(\"secp192r1\")\n",
        "print(f\"a = 0x{curve.a:x}\") \n",
        "print(f\"a = {curve.a}\") \n",
        "print(f\"b = 0x{curve.b:x} \") \n",
        "print(f\"b = {curve.b}\") \n",
        "print(f\"p = 0x{curve.field.p:x}\") \n",
        "print(f\"p = {curve.field.p}\") \n",
        "print(curve)"
      ],
      "metadata": {
        "colab": {
          "base_uri": "https://localhost:8080/"
        },
        "id": "N8GdQKOStsin",
        "outputId": "1d662ce9-b102-4a8e-c556-e2748a09af8d"
      },
      "execution_count": 4,
      "outputs": [
        {
          "output_type": "stream",
          "name": "stdout",
          "text": [
            "a = 0xfffffffffffffffffffffffffffffffefffffffffffffffc\n",
            "a = 6277101735386680763835789423207666416083908700390324961276\n",
            "b = 0x64210519e59c80e70fa7e9ab72243049feb8deecc146b9b1 \n",
            "b = 2455155546008943817740293915197451784769108058161191238065\n",
            "p = 0xfffffffffffffffffffffffffffffffeffffffffffffffff\n",
            "p = 6277101735386680763835789423207666416083908700390324961279\n",
            "\"secp192r1\" => y^2 = x^3 + 6277101735386680763835789423207666416083908700390324961276x + 2455155546008943817740293915197451784769108058161191238065 (mod 6277101735386680763835789423207666416083908700390324961279)\n"
          ]
        }
      ]
    },
    {
      "cell_type": "markdown",
      "source": [
        "**part2**"
      ],
      "metadata": {
        "id": "nBW6UoLnyyGr"
      }
    },
    {
      "cell_type": "code",
      "source": [
        "x = 401207254\n",
        "f = lambda x: nthroot_mod(x ** 3 + curve.a * x + curve.b, 2, curve.field.p)\n",
        "while True:\n",
        "  y = f(x)\n",
        "  if (y is None):\n",
        "    x *= 10\n",
        "    print(f\"I can not any point for x = {x} \")\n",
        "    continue\n",
        "  break\n",
        "#finally founf a point\n",
        "G = ec.Point(curve, x, y)\n",
        "print(f\"point G = (x, y) = ({G.x}, {G.y})  was found\")"
      ],
      "metadata": {
        "colab": {
          "base_uri": "https://localhost:8080/"
        },
        "id": "m-38y8mGpE4j",
        "outputId": "4f7943b4-26de-4bf0-c4ef-690f1429107f"
      },
      "execution_count": 5,
      "outputs": [
        {
          "output_type": "stream",
          "name": "stdout",
          "text": [
            "point G = (x, y) = (401207254, 3075002300464187516527786225381035405128256020931106480378)  was found\n"
          ]
        }
      ]
    },
    {
      "cell_type": "markdown",
      "source": [
        "**part3**"
      ],
      "metadata": {
        "id": "6qS5hr7-29MK"
      }
    },
    {
      "cell_type": "code",
      "source": [
        "twoG = 2 * G\n",
        "sG = studentno * G\n",
        "print(\"2G = ( \",twoG.x , \" , \" , twoG.y ,\")\")\n",
        "print(\"s.G = ( \",sG.x , \" , \" , sG.y ,\")\")\n"
      ],
      "metadata": {
        "colab": {
          "base_uri": "https://localhost:8080/"
        },
        "id": "a6Hv1LzO11RK",
        "outputId": "74bed584-401a-4e9b-b994-24e4cc80f1b1"
      },
      "execution_count": 6,
      "outputs": [
        {
          "output_type": "stream",
          "name": "stdout",
          "text": [
            "2G = (  4645841863654385423808435878330234835571906825263186126391  ,  3827824616513623578798405581836380065495198184479706607098 )\n",
            "s.G = (  1241270276436762464363661530017996861092102941243794014800  ,  1177540665121620286384992331607063197675769851233232093396 )\n"
          ]
        }
      ]
    },
    {
      "cell_type": "markdown",
      "source": [
        "**part4**"
      ],
      "metadata": {
        "id": "9F3NqEOX3BvW"
      }
    },
    {
      "cell_type": "code",
      "source": [
        "#choosing k at random as a private key\n",
        "k = secrets.randbelow(curve.field.n) \n",
        "print(\"(Private key) k = \" , k)\n",
        "# public key \n",
        "kG = k * G\n",
        "public_key = kG\n",
        "print(\"Public key (k.G) = (\" ,public_key.x , \" , \", public_key.y , \")\")\n",
        "print(f\"Group order (n) is {curve.field.n}\")\n"
      ],
      "metadata": {
        "colab": {
          "base_uri": "https://localhost:8080/"
        },
        "id": "-vAVcCsNpqIa",
        "outputId": "dbc06c62-7f83-4d80-9248-5110d3322622"
      },
      "execution_count": 7,
      "outputs": [
        {
          "output_type": "stream",
          "name": "stdout",
          "text": [
            "(Private key) k =  4523608545204589110388109040375906755171246170447750315435\n",
            "Public key (k.G) = ( 449199953483195796599366105353476049422167483543046833654  ,  5296556463471698636219997688387887993298813287040344202263 )\n",
            "Group order (n) is 6277101735386680763835789423176059013767194773182842284081\n"
          ]
        }
      ]
    },
    {
      "cell_type": "code",
      "source": [
        "#Encryotion\n",
        "m = sG\n",
        "r2 = secrets.randbelow(curve.field.n)\n",
        "encrypted_m = r2*G , r2*public_key + m\n",
        "print(m.x)\n",
        "print(m.y)\n",
        "print(encrypted_m[0].x)\n",
        "print(encrypted_m[0].y)\n",
        "print(encrypted_m[1].x)\n",
        "print(encrypted_m[1].y)"
      ],
      "metadata": {
        "colab": {
          "base_uri": "https://localhost:8080/"
        },
        "id": "MWN3I7G9FjQt",
        "outputId": "d1c110f9-fb34-4666-964c-91c307330d42"
      },
      "execution_count": 8,
      "outputs": [
        {
          "output_type": "stream",
          "name": "stdout",
          "text": [
            "1241270276436762464363661530017996861092102941243794014800\n",
            "1177540665121620286384992331607063197675769851233232093396\n",
            "5922963982909663116410736095849056346405630429664703919182\n",
            "1966078637927331520534878992437656642578163735133506368394\n",
            "1874610007947913006103521319980783467088435571657609624027\n",
            "3481231484091008383713674690243272559092961839239587188588\n"
          ]
        }
      ]
    },
    {
      "cell_type": "markdown",
      "source": [
        "**part5**"
      ],
      "metadata": {
        "id": "nG6SS-yx6eSQ"
      }
    },
    {
      "cell_type": "code",
      "source": [
        "#Decryption\n",
        "decrypted_m =  encrypted_m[1] - k * encrypted_m[0]\n",
        "print(decrypted_m.x)\n",
        "print(decrypted_m.y)"
      ],
      "metadata": {
        "colab": {
          "base_uri": "https://localhost:8080/"
        },
        "id": "7tqEl556HeDS",
        "outputId": "be83c1b5-e673-4c54-9aa8-5c2ef1e6b3c6"
      },
      "execution_count": 9,
      "outputs": [
        {
          "output_type": "stream",
          "name": "stdout",
          "text": [
            "1241270276436762464363661530017996861092102941243794014800\n",
            "1177540665121620286384992331607063197675769851233232093396\n"
          ]
        }
      ]
    }
  ],
  "metadata": {
    "colab": {
      "provenance": []
    },
    "kernelspec": {
      "display_name": "Python 3",
      "name": "python3"
    },
    "language_info": {
      "name": "python"
    }
  },
  "nbformat": 4,
  "nbformat_minor": 0
}