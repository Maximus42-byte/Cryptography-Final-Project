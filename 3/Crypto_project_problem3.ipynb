{
  "nbformat": 4,
  "nbformat_minor": 0,
  "metadata": {
    "colab": {
      "provenance": []
    },
    "kernelspec": {
      "name": "python3",
      "display_name": "Python 3"
    },
    "language_info": {
      "name": "python"
    }
  },
  "cells": [
    {
      "cell_type": "markdown",
      "source": [
        "**part1**"
      ],
      "metadata": {
        "id": "H1aHDUYTUimv"
      }
    },
    {
      "cell_type": "code",
      "source": [
        "%pip install cryptography"
      ],
      "metadata": {
        "colab": {
          "base_uri": "https://localhost:8080/"
        },
        "id": "LAf6usoaUqBP",
        "outputId": "1173d076-f08f-4e5e-fdf9-51bb44449eb4"
      },
      "execution_count": 2,
      "outputs": [
        {
          "output_type": "stream",
          "name": "stdout",
          "text": [
            "Looking in indexes: https://pypi.org/simple, https://us-python.pkg.dev/colab-wheels/public/simple/\n",
            "Collecting cryptography\n",
            "  Downloading cryptography-39.0.0-cp36-abi3-manylinux_2_28_x86_64.whl (4.2 MB)\n",
            "\u001b[2K     \u001b[90m━━━━━━━━━━━━━━━━━━━━━━━━━━━━━━━━━━━━━━━━\u001b[0m \u001b[32m4.2/4.2 MB\u001b[0m \u001b[31m33.6 MB/s\u001b[0m eta \u001b[36m0:00:00\u001b[0m\n",
            "\u001b[?25hRequirement already satisfied: cffi>=1.12 in /usr/local/lib/python3.8/dist-packages (from cryptography) (1.15.1)\n",
            "Requirement already satisfied: pycparser in /usr/local/lib/python3.8/dist-packages (from cffi>=1.12->cryptography) (2.21)\n",
            "Installing collected packages: cryptography\n",
            "Successfully installed cryptography-39.0.0\n"
          ]
        }
      ]
    },
    {
      "cell_type": "code",
      "source": [
        "from cryptography.hazmat.primitives.asymmetric import rsa\n",
        "from sympy.ntheory.modular import crt\n",
        "from random import randint\n",
        "from math import log2\n",
        "\n",
        "\n",
        "class FastRSA:\n",
        "    def __init__(self):\n",
        "        private_key = rsa.generate_private_key(\n",
        "            public_exponent=2**16 + 1,\n",
        "            key_size=4096,\n",
        "        )\n",
        "        private_numbers = private_key.private_numbers()\n",
        "        public_numbers = private_key.public_key().public_numbers()\n",
        "        p, q, d = private_numbers.p, private_numbers.q, private_numbers.d\n",
        "        self.n, self.e = public_numbers.n, public_numbers.e\n",
        "        self.__dp = d % (p - 1)\n",
        "        self.__dq = d % (q - 1)\n",
        "        self.__p = p\n",
        "        self.__q = q\n",
        "\n",
        "    def sign(self, m, inject_fault=False):\n",
        "        m1 = pow(m, self.__dp, self.__p)\n",
        "        m2 = pow(m, self.__dq, self.__q)\n",
        "        if inject_fault:\n",
        "            m2 ^= 1 << randint(0, int(log2(m2)))\n",
        "        return crt([self.__p, self.__q], [m1, m2])[0]"
      ],
      "metadata": {
        "id": "sHJB9ZDJUlG_"
      },
      "execution_count": 3,
      "outputs": []
    },
    {
      "cell_type": "markdown",
      "source": [
        "**part2**"
      ],
      "metadata": {
        "id": "8EXcM1g-ULN0"
      }
    },
    {
      "cell_type": "code",
      "execution_count": 4,
      "metadata": {
        "id": "B7hzVCToT6Mq"
      },
      "outputs": [],
      "source": [
        "import os , math"
      ]
    },
    {
      "cell_type": "code",
      "source": [
        "def gcdExtended(a, b):\n",
        "    if a == 0:\n",
        "        return (b, 0, 1)\n",
        "    else:\n",
        "        g, y, x = gcdExtended(b % a, a)\n",
        "        return (g, x - (b // a) * y, y)"
      ],
      "metadata": {
        "id": "gPghzTDfUKEV"
      },
      "execution_count": 5,
      "outputs": []
    },
    {
      "cell_type": "code",
      "source": [
        "def modInverse(a, m):\n",
        "    g, x, y = gcdExtended(a, m)\n",
        "    if g != 1:\n",
        "        raise Exception(\"Inverse doesn't exist\")\n",
        "    else:\n",
        "        return x % m"
      ],
      "metadata": {
        "id": "dCHLKlxZxCsE"
      },
      "execution_count": 6,
      "outputs": []
    },
    {
      "cell_type": "code",
      "source": [
        "file = open(\"/content/sig1.txt\",'r')"
      ],
      "metadata": {
        "id": "6zb2FmE1xGIn"
      },
      "execution_count": 7,
      "outputs": []
    },
    {
      "cell_type": "code",
      "source": [
        "lines = file.readlines()"
      ],
      "metadata": {
        "id": "y9XsS9digf4O"
      },
      "execution_count": 8,
      "outputs": []
    },
    {
      "cell_type": "code",
      "source": [
        "type(lines) , len(lines)"
      ],
      "metadata": {
        "colab": {
          "base_uri": "https://localhost:8080/"
        },
        "id": "I3jFSWZigohj",
        "outputId": "2bc95421-5d2a-4247-c430-4640ddf88526"
      },
      "execution_count": 9,
      "outputs": [
        {
          "output_type": "execute_result",
          "data": {
            "text/plain": [
              "(list, 4)"
            ]
          },
          "metadata": {},
          "execution_count": 9
        }
      ]
    },
    {
      "cell_type": "code",
      "source": [
        "lines[0]"
      ],
      "metadata": {
        "colab": {
          "base_uri": "https://localhost:8080/",
          "height": 140
        },
        "id": "CLvDTFHDg5HT",
        "outputId": "97fe1d18-9ba0-4ed2-82dc-79d0c94a2393"
      },
      "execution_count": 10,
      "outputs": [
        {
          "output_type": "execute_result",
          "data": {
            "text/plain": [
              "'n=970108368503805675938329213022864302807996578437203639248583177679721468801381573324408354292760440129889027342891743295547826621712772022584069107516423146820919865556849122057726544540501000827220838689295390329900752639692465765005179891185571337866177821965719745153089989439299847479341476500219640125262702941316871501707370831815108314725316579900547483144624011108360836865267097547707131621663985035172451685283507090352352908931422129657830247728462203079220531706888828065225384084088733817576762946528259624528292821436724541285519314865589474637362478145293375279276823104654394028651681240456190171009089889565658392844766251322329066780804115971599175857021536324192111557828690239060337508265251463341728391654250518068782680217363538443609555827163787370953606854053055647940144973669975199125929494732795947604525491955064415410580244554197423155093783335563189422509041577522571288705198980030121288172686647150259339137947432888888429420123734826679544564297196030955081603748697994893227515002572843384332395299495813314935600575499613713672814268159489062025831893410506047800636938497716611942924565436760686862973395594227013601126232281942500899159769580133425450925284143372648903158700497241029817712492129\\n'"
            ],
            "application/vnd.google.colaboratory.intrinsic+json": {
              "type": "string"
            }
          },
          "metadata": {},
          "execution_count": 10
        }
      ]
    },
    {
      "cell_type": "code",
      "source": [
        "n = int(lines[0][2:len(lines[0])-1])\n",
        "n"
      ],
      "metadata": {
        "colab": {
          "base_uri": "https://localhost:8080/"
        },
        "id": "i7XVGNiq0W87",
        "outputId": "3a9cd4a5-6e6d-43dd-ead0-9e8d55173f62"
      },
      "execution_count": 34,
      "outputs": [
        {
          "output_type": "execute_result",
          "data": {
            "text/plain": [
              "970108368503805675938329213022864302807996578437203639248583177679721468801381573324408354292760440129889027342891743295547826621712772022584069107516423146820919865556849122057726544540501000827220838689295390329900752639692465765005179891185571337866177821965719745153089989439299847479341476500219640125262702941316871501707370831815108314725316579900547483144624011108360836865267097547707131621663985035172451685283507090352352908931422129657830247728462203079220531706888828065225384084088733817576762946528259624528292821436724541285519314865589474637362478145293375279276823104654394028651681240456190171009089889565658392844766251322329066780804115971599175857021536324192111557828690239060337508265251463341728391654250518068782680217363538443609555827163787370953606854053055647940144973669975199125929494732795947604525491955064415410580244554197423155093783335563189422509041577522571288705198980030121288172686647150259339137947432888888429420123734826679544564297196030955081603748697994893227515002572843384332395299495813314935600575499613713672814268159489062025831893410506047800636938497716611942924565436760686862973395594227013601126232281942500899159769580133425450925284143372648903158700497241029817712492129"
            ]
          },
          "metadata": {},
          "execution_count": 34
        }
      ]
    },
    {
      "cell_type": "code",
      "source": [
        "lines[1], len(lines[1])"
      ],
      "metadata": {
        "colab": {
          "base_uri": "https://localhost:8080/"
        },
        "id": "2qX9FIkEg8Us",
        "outputId": "ecefc9f7-76d3-4b4c-c72b-58b3a504c3b2"
      },
      "execution_count": 18,
      "outputs": [
        {
          "output_type": "execute_result",
          "data": {
            "text/plain": [
              "('e=65537\\n', 8)"
            ]
          },
          "metadata": {},
          "execution_count": 18
        }
      ]
    },
    {
      "cell_type": "code",
      "source": [
        "e = int(lines[1][2:len(lines[1])])\n",
        "e"
      ],
      "metadata": {
        "colab": {
          "base_uri": "https://localhost:8080/"
        },
        "id": "BeChziS4zM8e",
        "outputId": "d0282c69-ac1e-4355-ade8-488b63df4625"
      },
      "execution_count": 54,
      "outputs": [
        {
          "output_type": "execute_result",
          "data": {
            "text/plain": [
              "65537"
            ]
          },
          "metadata": {},
          "execution_count": 54
        }
      ]
    },
    {
      "cell_type": "code",
      "source": [
        "lines[2]"
      ],
      "metadata": {
        "colab": {
          "base_uri": "https://localhost:8080/",
          "height": 53
        },
        "id": "RbTzJmPFhjeI",
        "outputId": "16cdc897-5b04-4c4e-fa6e-42414be6e057"
      },
      "execution_count": 13,
      "outputs": [
        {
          "output_type": "execute_result",
          "data": {
            "text/plain": [
              "'m=32182110544320125172886333925353399125487506562333020210884780807854499260343379279075188696785651525982546809357207590252249760987119653409235590450967339449658034838156478667128606165728335268981909308841799044101228980630658166850370245232624955185155355066892278059868749790525947423836740428528253204901\\n'"
            ],
            "application/vnd.google.colaboratory.intrinsic+json": {
              "type": "string"
            }
          },
          "metadata": {},
          "execution_count": 13
        }
      ]
    },
    {
      "cell_type": "code",
      "source": [
        "m = int(lines[2][2:len(lines[2])])\n",
        "m"
      ],
      "metadata": {
        "colab": {
          "base_uri": "https://localhost:8080/"
        },
        "id": "930yjdBtz7Ys",
        "outputId": "9092cae5-2014-4a1f-d710-59494da8f325"
      },
      "execution_count": 55,
      "outputs": [
        {
          "output_type": "execute_result",
          "data": {
            "text/plain": [
              "32182110544320125172886333925353399125487506562333020210884780807854499260343379279075188696785651525982546809357207590252249760987119653409235590450967339449658034838156478667128606165728335268981909308841799044101228980630658166850370245232624955185155355066892278059868749790525947423836740428528253204901"
            ]
          },
          "metadata": {},
          "execution_count": 55
        }
      ]
    },
    {
      "cell_type": "code",
      "source": [
        "lines[3]"
      ],
      "metadata": {
        "colab": {
          "base_uri": "https://localhost:8080/",
          "height": 140
        },
        "id": "dRcWcgEWhma9",
        "outputId": "ddf61b98-4572-4c85-899b-4f0f8069b3f3"
      },
      "execution_count": 14,
      "outputs": [
        {
          "output_type": "execute_result",
          "data": {
            "text/plain": [
              "'sig=139719070374889017019269913712084497745392883783532119184298193788083765732006742238482625472596283164297763489554468034266305565650396365594611170708744485944427416726781970456672471522836596570033346463182366539788369417505857139028883604941717069593319058605885820851923385943485186661922835126318336703270297882906866595133214467747823381339556382393356351406514863952604966702337038230425794933227676013020900734049032337698142518815004046699772712164715180182145911634241082627895041394314160846903331300857911650951229841568671640534455058728614138536691580798679800332879034342837862258624524388140057085041701344058980217418223236608640685596385579237824717796524237694526848261910922166920645328462648842279937426152743186669532706553748936008194138729225401057608531312993401659090723910103196159093231804557857713298421094591963171288067353622333846032340496559318513073197049964928979997271552615645596237591750383930798026271800686385625317031711015237272421790004588493084926908526574140126237531101226590277608565617803999983601430663168338529875083739014135949670656187849044328366972664864312745282485273690540033545890056641311652830264600004834411855929540558446731079162830308366056908452464088084881313652552476'"
            ],
            "application/vnd.google.colaboratory.intrinsic+json": {
              "type": "string"
            }
          },
          "metadata": {},
          "execution_count": 14
        }
      ]
    },
    {
      "cell_type": "code",
      "source": [
        "sign = int(lines[3][4:len(lines[3])])\n",
        "sign"
      ],
      "metadata": {
        "id": "_o3kFsFPhoPc",
        "colab": {
          "base_uri": "https://localhost:8080/"
        },
        "outputId": "65434cb1-7156-4bf5-a62d-c79c1bc4cef3"
      },
      "execution_count": 65,
      "outputs": [
        {
          "output_type": "execute_result",
          "data": {
            "text/plain": [
              "139719070374889017019269913712084497745392883783532119184298193788083765732006742238482625472596283164297763489554468034266305565650396365594611170708744485944427416726781970456672471522836596570033346463182366539788369417505857139028883604941717069593319058605885820851923385943485186661922835126318336703270297882906866595133214467747823381339556382393356351406514863952604966702337038230425794933227676013020900734049032337698142518815004046699772712164715180182145911634241082627895041394314160846903331300857911650951229841568671640534455058728614138536691580798679800332879034342837862258624524388140057085041701344058980217418223236608640685596385579237824717796524237694526848261910922166920645328462648842279937426152743186669532706553748936008194138729225401057608531312993401659090723910103196159093231804557857713298421094591963171288067353622333846032340496559318513073197049964928979997271552615645596237591750383930798026271800686385625317031711015237272421790004588493084926908526574140126237531101226590277608565617803999983601430663168338529875083739014135949670656187849044328366972664864312745282485273690540033545890056641311652830264600004834411855929540558446731079162830308366056908452464088084881313652552476"
            ]
          },
          "metadata": {},
          "execution_count": 65
        }
      ]
    },
    {
      "cell_type": "code",
      "source": [
        "def get_data(file_path):\n",
        "  file = open(file_path,'r')\n",
        "  lines = file.readlines()\n",
        "  n = int(lines[0][2:len(lines[0])])\n",
        "  e = int(lines[1][2:len(lines[1])])\n",
        "  m = int(lines[2][2:len(lines[2])])\n",
        "  sign = int(lines[3][4:len(lines[3])])\n",
        "  return n , e , m , sign"
      ],
      "metadata": {
        "id": "udcDylVz0ykd"
      },
      "execution_count": 73,
      "outputs": []
    },
    {
      "cell_type": "code",
      "source": [
        "file1 = \"/content/sig1.txt\"\n",
        "file2 = \"/content/sig2.txt\"\n",
        "file3 = \"/content/sig3.txt\""
      ],
      "metadata": {
        "id": "n0PhwYfc1Z9B"
      },
      "execution_count": 74,
      "outputs": []
    },
    {
      "cell_type": "code",
      "source": [
        "#checking for sig1.txt\n",
        "n1, e1, m1, sign1 = get_data(file1)\n",
        "mm1 = pow(sign1, e1, n1)\n",
        "if (m1 == mm1 ):\n",
        "  print(\"correct signiture\")\n"
      ],
      "metadata": {
        "colab": {
          "base_uri": "https://localhost:8080/"
        },
        "id": "JeV2A5wn1j4M",
        "outputId": "eb3ddb19-74f9-4e50-c4cc-f0b53aaf7938"
      },
      "execution_count": 77,
      "outputs": [
        {
          "output_type": "stream",
          "name": "stdout",
          "text": [
            "correct signiture\n"
          ]
        }
      ]
    },
    {
      "cell_type": "code",
      "source": [
        "#checking for sig2.txt\n",
        "n2, e2, m2, sign2 = get_data(file2)\n",
        "mm2 = pow(sign2, e2, n2)\n",
        "if (m2 == mm2 ):\n",
        "  print(\"correct signiture\")\n",
        "else:\n",
        "  print(\"Incorrect signiture\")\n"
      ],
      "metadata": {
        "colab": {
          "base_uri": "https://localhost:8080/"
        },
        "id": "e6yvoYig6OgU",
        "outputId": "bf0499ba-2b64-4d1b-8a31-38cf4e01f7fd"
      },
      "execution_count": 81,
      "outputs": [
        {
          "output_type": "stream",
          "name": "stdout",
          "text": [
            "correct signiture\n"
          ]
        }
      ]
    },
    {
      "cell_type": "code",
      "source": [
        "#checking for sig3.txt\n",
        "n3, e3, m3, sign3 = get_data(file3)\n",
        "mm3 = pow(sign3, e3, n3)\n",
        "if (m3 == mm3 ):\n",
        "  print(\"correct signiture\")\n",
        "else:\n",
        "  print(\"Incorrect signiture\")"
      ],
      "metadata": {
        "colab": {
          "base_uri": "https://localhost:8080/"
        },
        "id": "3bK3X8km6xn5",
        "outputId": "f7b7660f-1617-4a7b-c4d6-cc84f89b4a43"
      },
      "execution_count": 82,
      "outputs": [
        {
          "output_type": "stream",
          "name": "stdout",
          "text": [
            "Incorrect signiture\n"
          ]
        }
      ]
    },
    {
      "cell_type": "markdown",
      "source": [
        "paper's approach"
      ],
      "metadata": {
        "id": "TUu3EkdA7h1F"
      }
    },
    {
      "cell_type": "code",
      "source": [
        "n3, e3, m3, sign3 = get_data(file3)\n"
      ],
      "metadata": {
        "id": "ERySV_3R7hA6"
      },
      "execution_count": 95,
      "outputs": []
    },
    {
      "cell_type": "code",
      "source": [
        "q = math.gcd(n3, (pow(sign3, e3, n3) - m3))"
      ],
      "metadata": {
        "id": "zZFNpXM87cMf"
      },
      "execution_count": 102,
      "outputs": []
    },
    {
      "cell_type": "code",
      "source": [
        "q"
      ],
      "metadata": {
        "colab": {
          "base_uri": "https://localhost:8080/"
        },
        "id": "RnGFrpUv9zWF",
        "outputId": "40901aff-c527-4891-9d3f-98a3d5e2a6be"
      },
      "execution_count": 108,
      "outputs": [
        {
          "output_type": "execute_result",
          "data": {
            "text/plain": [
              "31341229038749314244797258919637636916441955906836402672971618438862383882051262592032888744453189634620931974910432931959705675289497166109180515325497674836933008331605908916257639917312169415006076453976468416277666276876749704285008291437207547081351658150492520813841414148957843427724035033708078507670808416897314599702277061732558753670772498366238932710726306979137055202882348778279150697691262849111945632593615519075513477823782408815406831006117927964077578537687042065535210335664166638806623619081487668217300247032276633706168397935896909478271849375578808644196740939370935488580037218350664830977701"
            ]
          },
          "metadata": {},
          "execution_count": 108
        }
      ]
    },
    {
      "cell_type": "code",
      "source": [
        "p = n3 // q"
      ],
      "metadata": {
        "id": "OfLAJHW78Bh0"
      },
      "execution_count": 103,
      "outputs": []
    },
    {
      "cell_type": "code",
      "source": [
        "p"
      ],
      "metadata": {
        "colab": {
          "base_uri": "https://localhost:8080/"
        },
        "id": "AQvXx7Fe96zA",
        "outputId": "d353544c-9f74-470f-9983-0bbb643c7441"
      },
      "execution_count": 110,
      "outputs": [
        {
          "output_type": "execute_result",
          "data": {
            "text/plain": [
              "30953105486207770110128938520936870655523023196433068034361051671457763190570433443983536656599259247450895709471949832215474337214219697438157281692653635924390335831720768295296630438389448147052719540138246132904917568013366050232950641858739777063386433253172579014592368010200148490857617749225138818318842629508080340102113234869562868928160941570045016777455228225644617466929471220796423517282307877405375087266985112876867349485987537356060416253221135843057506100224740988203274140265042431656267383286508144590889120933361011809369717673787018046408502901215802100543929292065468690675654619841973561378829"
            ]
          },
          "metadata": {},
          "execution_count": 110
        }
      ]
    },
    {
      "cell_type": "code",
      "source": [
        "fi3 = (p-1)*(q-1)"
      ],
      "metadata": {
        "id": "_8zvEL908E7u"
      },
      "execution_count": 104,
      "outputs": []
    },
    {
      "cell_type": "code",
      "source": [
        "fi3"
      ],
      "metadata": {
        "colab": {
          "base_uri": "https://localhost:8080/"
        },
        "id": "GW2xH5z1-EiR",
        "outputId": "ddf638d7-7ce0-4ad1-ff3e-fcd1b2e91f8e"
      },
      "execution_count": 111,
      "outputs": [
        {
          "output_type": "execute_result",
          "data": {
            "text/plain": [
              "970108368503805675938329213022864302807996578437203639248583177679721468801381573324408354292760440129889027342891743295547826621712772022584069107516423146820919865556849122057726544540501000827220838689295390329900752639692465765005179891185571337866177821965719745153089989439299847479341476500219640125262702941316871501707370831815108314725316579900547483144624011108360836865267097547707131621663985035172451685283507090352352908931422129657830247728462203079220531706888828065225384084088733817576762946528259624528292821436724541285519314865589474637362478145293375279276823104654394028651681240456190171009027595231133435760411325124888492273232150992495906386314203654081791410756068543024321082864199014459656563969868135304607500204859821580062218030145636060192283509889728970728590703314273581563870698738681233055342908110174299656062285620901475830949045244159524322680607795363413296786617327247188070846696996103853944198143042592286307797524801386743260614809014495750299931078886174894151940787599272657815074579635212682983219748189843767501347020900149998218696808772594264746898454021787402872461674434392691050165206226261375955610694166332816971635089227856630840180543473141212498979444805402837179320135600"
            ]
          },
          "metadata": {},
          "execution_count": 111
        }
      ]
    },
    {
      "cell_type": "code",
      "source": [
        "d3 = modInverse(e3, fi3)"
      ],
      "metadata": {
        "id": "CrpvgP4Y8JYW"
      },
      "execution_count": 112,
      "outputs": []
    },
    {
      "cell_type": "code",
      "source": [
        "d3"
      ],
      "metadata": {
        "colab": {
          "base_uri": "https://localhost:8080/"
        },
        "id": "S1mG5-mM-Otq",
        "outputId": "ffe9ddad-8efe-4b27-9d4b-1945ca924b6c"
      },
      "execution_count": 113,
      "outputs": [
        {
          "output_type": "execute_result",
          "data": {
            "text/plain": [
              "513704332217771215920224865476684663085718193662888369874770444149061657587059922191285343048597865545686693087991746026346823551275158159082007633966308327925800738732088620655375467319736129708529105480466106565892178763261780855222847596681326086169764181050373652071239681302187495718801083364566922363048611362672394351210043141237949844427230214823208261822345113165151814739341583430667078074953490954127054385859572913981232820415277989344116162124731865902639262284753191161871640893757959906696735909430042907207071945239179219078881582969855457647054754437253174476891265529760686182924576129038430561281372257883352224768135780202544062679864024414354913029748815533381974901488908596931749070902225652651295014968800887553765028718272964098363965615120834854096357888325879338391519474004280793667585771839223545660506588386033674035491181472874327742149559274201018235413702380796983307928082880278108775358404756897449490813622169921154523792747619014076599728036560096747156702445361640196021315487325406385962347196418212932393146743689524056752166669412985115860989274022981084940970199251905183778413872309858003115872458563501148834452500577512154663527841319613905376773816022886196172613678571291027381038588673"
            ]
          },
          "metadata": {},
          "execution_count": 113
        }
      ]
    }
  ]
}